{
  "nbformat": 4,
  "nbformat_minor": 0,
  "metadata": {
    "colab": {
      "name": "gradient_descent_numpy.ipynb",
      "provenance": [],
      "authorship_tag": "ABX9TyP3B8JS5/gF2qTzpa9si2zZ",
      "include_colab_link": true
    },
    "kernelspec": {
      "name": "python3",
      "display_name": "Python 3"
    },
    "language_info": {
      "name": "python"
    }
  },
  "cells": [
    {
      "cell_type": "markdown",
      "metadata": {
        "id": "view-in-github",
        "colab_type": "text"
      },
      "source": [
        "<a href=\"https://colab.research.google.com/github/19521309/19521309/blob/main/gradient_descent_numpy.ipynb\" target=\"_parent\"><img src=\"https://colab.research.google.com/assets/colab-badge.svg\" alt=\"Open In Colab\"/></a>"
      ]
    },
    {
      "cell_type": "code",
      "execution_count": 2,
      "metadata": {
        "id": "YiWZKgDKbKct"
      },
      "outputs": [],
      "source": [
        "import numpy as np\n",
        "import matplotlib.pyplot as plt"
      ]
    },
    {
      "cell_type": "markdown",
      "source": [
        "Định nghĩa hàm Loss"
      ],
      "metadata": {
        "id": "jzGHAIWtbXsV"
      }
    },
    {
      "cell_type": "code",
      "source": [
        "def Loss(theta):\n",
        "  return theta**2 - 4*theta + 10"
      ],
      "metadata": {
        "id": "QweDOGUsbW2n"
      },
      "execution_count": 3,
      "outputs": []
    },
    {
      "cell_type": "code",
      "source": [
        "theta = np.arange(-4,8,0.1)\n",
        "loss = Loss(theta)\n",
        "plt.plot(theta,loss)\n",
        "plt.show()"
      ],
      "metadata": {
        "colab": {
          "base_uri": "https://localhost:8080/",
          "height": 265
        },
        "id": "MchXN60Gc8Hk",
        "outputId": "245d93de-a839-4ce0-ecd6-340e3f8ba367"
      },
      "execution_count": 4,
      "outputs": [
        {
          "output_type": "display_data",
          "data": {
            "image/png": "[encoded data removed]",
            "text/plain": [
              "<Figure size 432x288 with 1 Axes>"
            ]
          },
          "metadata": {
            "needs_background": "light"
          }
        }
      ]
    },
    {
      "cell_type": "markdown",
      "source": [
        "Định nghĩa đạo hàm của hàm Loss"
      ],
      "metadata": {
        "id": "hfojArJebxPX"
      }
    },
    {
      "cell_type": "code",
      "source": [
        "def DerLoss(theta):\n",
        "  return 2*theta - 4"
      ],
      "metadata": {
        "id": "8CiDMBaUbw-x"
      },
      "execution_count": 5,
      "outputs": []
    },
    {
      "cell_type": "markdown",
      "source": [
        "Khởi tạo tham số"
      ],
      "metadata": {
        "id": "6_liQ3Ctb7PS"
      }
    },
    {
      "cell_type": "code",
      "source": [
        "theta = -4\n",
        "alpha = 0.01\n",
        "eps = 0.0001"
      ],
      "metadata": {
        "id": "BVjZBLghb_Zu"
      },
      "execution_count": 6,
      "outputs": []
    },
    {
      "cell_type": "markdown",
      "source": [
        "Lặp"
      ],
      "metadata": {
        "id": "gVqlG64XcCYX"
      }
    },
    {
      "cell_type": "code",
      "source": [
        ""
      ],
      "metadata": {
        "id": "cE0qPPGTcCAr"
      },
      "execution_count": 6,
      "outputs": []
    },
    {
      "cell_type": "markdown",
      "source": [
        "Cặp nhật tham số"
      ],
      "metadata": {
        "id": "ZCWrF5NBcDx_"
      }
    },
    {
      "cell_type": "code",
      "source": [
        ""
      ],
      "metadata": {
        "id": "f7Z1BTrVcGua"
      },
      "execution_count": 6,
      "outputs": []
    },
    {
      "cell_type": "markdown",
      "source": [
        "Tìm điểm đúng "
      ],
      "metadata": {
        "id": "HppxNUHQcHFp"
      }
    },
    {
      "cell_type": "code",
      "source": [
        "while True:\n",
        "  theta = theta - alpha*DerLoss(theta)\n",
        "  plt.plot(theta, Loss(theta), 'ro')\n",
        "  if abs(DerLoss(theta)) < eps:\n",
        "    break\n",
        "plt.show()"
      ],
      "metadata": {
        "id": "ZeYYdkFZcJP2",
        "colab": {
          "base_uri": "https://localhost:8080/",
          "height": 265
        },
        "outputId": "23757f9c-a944-40ea-ebc9-46c62c6c25ba"
      },
      "execution_count": 7,
      "outputs": [
        {
          "output_type": "display_data",
          "data": {
            "image/png": "[encoded data removed]",
            "text/plain": [
              "<Figure size 432x288 with 1 Axes>"
            ]
          },
          "metadata": {
            "needs_background": "light"
          }
        }
      ]
    },
    {
      "cell_type": "markdown",
      "source": [
        "In kết quả"
      ],
      "metadata": {
        "id": "7YdoX8AFca0u"
      }
    },
    {
      "cell_type": "code",
      "source": [
        "print (\"Giá trị nhỏ nhất của hàm Loss: \",Loss(theta))\n",
        "print (\"Giá trị nhỏ nhất đạt được khi: \", theta)"
      ],
      "metadata": {
        "id": "7o2kbAI_cdY7",
        "colab": {
          "base_uri": "https://localhost:8080/"
        },
        "outputId": "c7cfa360-69fa-4828-f9db-70ba7b57c91d"
      },
      "execution_count": 8,
      "outputs": [
        {
          "output_type": "stream",
          "name": "stdout",
          "text": [
            "Giá trị nhỏ nhất của hàm Loss:  6.00000000248942\n",
            "Giá trị nhỏ nhất đạt được khi:  1.9999501059134195\n"
          ]
        }
      ]
    }
  ]
}