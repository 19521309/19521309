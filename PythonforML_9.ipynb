{
  "nbformat": 4,
  "nbformat_minor": 0,
  "metadata": {
    "colab": {
      "name": "Untitled44.ipynb",
      "provenance": [],
      "authorship_tag": "ABX9TyNwEYgS3MWnsjfBXGTH5+z4",
      "include_colab_link": true
    },
    "kernelspec": {
      "name": "python3",
      "display_name": "Python 3"
    },
    "language_info": {
      "name": "python"
    }
  },
  "cells": [
    {
      "cell_type": "markdown",
      "metadata": {
        "id": "view-in-github",
        "colab_type": "text"
      },
      "source": [
        "<a href=\"https://colab.research.google.com/github/19521309/19521309/blob/main/PythonforML_9.ipynb\" target=\"_parent\"><img src=\"https://colab.research.google.com/assets/colab-badge.svg\" alt=\"Open In Colab\"/></a>"
      ]
    },
    {
      "cell_type": "code",
      "metadata": {
        "colab": {
          "base_uri": "https://localhost:8080/"
        },
        "id": "LU2g4MKUcfcy",
        "outputId": "a0e40c70-9eba-4b4e-eca5-5b2e0f1e2bd1"
      },
      "source": [
        "from keras.datasets import fashion_mnist\n",
        "(train_X,train_Y), (test_X,test_Y) = fashion_mnist.load_data()"
      ],
      "execution_count": 1,
      "outputs": [
        {
          "output_type": "stream",
          "name": "stdout",
          "text": [
            "Downloading data from https://storage.googleapis.com/tensorflow/tf-keras-datasets/train-labels-idx1-ubyte.gz\n",
            "32768/29515 [=================================] - 0s 0us/step\n",
            "40960/29515 [=========================================] - 0s 0us/step\n",
            "Downloading data from https://storage.googleapis.com/tensorflow/tf-keras-datasets/train-images-idx3-ubyte.gz\n",
            "26427392/26421880 [==============================] - 0s 0us/step\n",
            "26435584/26421880 [==============================] - 0s 0us/step\n",
            "Downloading data from https://storage.googleapis.com/tensorflow/tf-keras-datasets/t10k-labels-idx1-ubyte.gz\n",
            "16384/5148 [===============================================================================================] - 0s 0us/step\n",
            "Downloading data from https://storage.googleapis.com/tensorflow/tf-keras-datasets/t10k-images-idx3-ubyte.gz\n",
            "4423680/4422102 [==============================] - 0s 0us/step\n",
            "4431872/4422102 [==============================] - 0s 0us/step\n"
          ]
        }
      ]
    },
    {
      "cell_type": "code",
      "metadata": {
        "colab": {
          "base_uri": "https://localhost:8080/"
        },
        "id": "FcBbGlT0ckBn",
        "outputId": "409c2567-aac2-4891-d410-3d63f852246b"
      },
      "source": [
        "import numpy as np\n",
        "from tensorflow.keras.utils import to_categorical\n",
        "import matplotlib.pyplot as plt\n",
        "%matplotlib inline\n",
        "\n",
        "print('Training data shape : ', train_X.shape, train_Y.shape)\n",
        "\n",
        "print('Testing data shape : ', test_X.shape, test_Y.shape)"
      ],
      "execution_count": 2,
      "outputs": [
        {
          "output_type": "stream",
          "name": "stdout",
          "text": [
            "Training data shape :  (60000, 28, 28) (60000,)\n",
            "Testing data shape :  (10000, 28, 28) (10000,)\n"
          ]
        }
      ]
    },
    {
      "cell_type": "code",
      "metadata": {
        "colab": {
          "base_uri": "https://localhost:8080/"
        },
        "id": "As09Wzricurc",
        "outputId": "50d8395d-2cc5-4bb0-d262-a37e4f4e366c"
      },
      "source": [
        "# Find the unique numbers from the train labels\n",
        "classes = np.unique(train_Y)\n",
        "nClasses = len(classes)\n",
        "print('Total number of outputs : ', nClasses)\n",
        "print('Output classes : ', classes)"
      ],
      "execution_count": 3,
      "outputs": [
        {
          "output_type": "stream",
          "name": "stdout",
          "text": [
            "Total number of outputs :  10\n",
            "Output classes :  [0 1 2 3 4 5 6 7 8 9]\n"
          ]
        }
      ]
    },
    {
      "cell_type": "code",
      "metadata": {
        "colab": {
          "base_uri": "https://localhost:8080/",
          "height": 209
        },
        "id": "YRVjb1MZcvqk",
        "outputId": "e4b63ff6-3bd0-4f0b-850d-89b9f66939de"
      },
      "source": [
        "plt.figure(figsize=[5,5])\n",
        "\n",
        "# Display the first image in training data\n",
        "plt.subplot(121)\n",
        "plt.imshow(train_X[0,:,:], cmap='gray')\n",
        "plt.title(\"Ground Truth : {}\".format(train_Y[0]))\n",
        "\n",
        "# Display the first image in testing data\n",
        "plt.subplot(122)\n",
        "plt.imshow(test_X[0,:,:], cmap='gray')\n",
        "plt.title(\"Ground Truth : {}\".format(test_Y[0]))"
      ],
      "execution_count": 4,
      "outputs": [
        {
          "output_type": "execute_result",
          "data": {
            "text/plain": [
              "Text(0.5, 1.0, 'Ground Truth : 9')"
            ]
          },
          "metadata": {},
          "execution_count": 4
        },
        {
          "output_type": "display_data",
          "data": {
            "image/png": "[encoded data removed]",
            "text/plain": [
              "<Figure size 360x360 with 2 Axes>"
            ]
          },
          "metadata": {
            "needs_background": "light"
          }
        }
      ]
    },
    {
      "cell_type": "code",
      "metadata": {
        "colab": {
          "base_uri": "https://localhost:8080/"
        },
        "id": "xLkz0tuJczM9",
        "outputId": "e93cc724-5fb1-4866-9419-73573010e064"
      },
      "source": [
        "train_X = train_X.reshape(-1, 28,28, 1)\n",
        "test_X = test_X.reshape(-1, 28,28, 1)\n",
        "train_X.shape, test_X.shape"
      ],
      "execution_count": 5,
      "outputs": [
        {
          "output_type": "execute_result",
          "data": {
            "text/plain": [
              "((60000, 28, 28, 1), (10000, 28, 28, 1))"
            ]
          },
          "metadata": {},
          "execution_count": 5
        }
      ]
    },
    {
      "cell_type": "code",
      "metadata": {
        "id": "JKnq-X4rczIM"
      },
      "source": [
        "train_X = train_X.astype('float32')\n",
        "test_X = test_X.astype('float32')\n",
        "train_X = train_X / 255.\n",
        "test_X = test_X / 255."
      ],
      "execution_count": 6,
      "outputs": []
    },
    {
      "cell_type": "code",
      "metadata": {
        "colab": {
          "base_uri": "https://localhost:8080/"
        },
        "id": "jG7OI7P6c3Gl",
        "outputId": "96f7b8fd-456b-4c49-dad8-8027766ebb20"
      },
      "source": [
        "# Change the labels from categorical to one-hot encoding\n",
        "train_Y_one_hot = to_categorical(train_Y)\n",
        "test_Y_one_hot = to_categorical(test_Y)\n",
        "\n",
        "# Display the change for category label using one-hot encoding\n",
        "print('Original label:', train_Y[0])\n",
        "print('After conversion to one-hot:', train_Y_one_hot[0])"
      ],
      "execution_count": 7,
      "outputs": [
        {
          "output_type": "stream",
          "name": "stdout",
          "text": [
            "Original label: 9\n",
            "After conversion to one-hot: [0. 0. 0. 0. 0. 0. 0. 0. 0. 1.]\n"
          ]
        }
      ]
    },
    {
      "cell_type": "code",
      "metadata": {
        "id": "0Nh6QOnQc5Tm"
      },
      "source": [
        "from sklearn.model_selection import train_test_split\n",
        "train_X,valid_X,train_label,valid_label = train_test_split(train_X, train_Y_one_hot, test_size=0.2, random_state=13)"
      ],
      "execution_count": 8,
      "outputs": []
    },
    {
      "cell_type": "code",
      "metadata": {
        "colab": {
          "base_uri": "https://localhost:8080/"
        },
        "id": "nqyk-kU-c6c0",
        "outputId": "1f930037-a11d-475b-a8dd-c04c688d3ba6"
      },
      "source": [
        "train_X.shape,valid_X.shape,train_label.shape,valid_label.shape\n"
      ],
      "execution_count": 9,
      "outputs": [
        {
          "output_type": "execute_result",
          "data": {
            "text/plain": [
              "((48000, 28, 28, 1), (12000, 28, 28, 1), (48000, 10), (12000, 10))"
            ]
          },
          "metadata": {},
          "execution_count": 9
        }
      ]
    },
    {
      "cell_type": "code",
      "metadata": {
        "id": "JNB_oJUXc-HG"
      },
      "source": [
        "import keras\n",
        "from keras.models import Sequential,Input,Model\n",
        "from keras.layers import Dense, Dropout, Flatten\n",
        "from keras.layers import Conv2D, MaxPooling2D\n",
        "from tensorflow.keras.models import Sequential\n",
        "def Conv2DReluBatchNorm(n_filter, w_filter, h_filter, inputs):\n",
        "    return BatchNormalization()(Activation(activation='relu')(Convolution2D(n_filter, w_filter, h_filter, border_mode='same')(inputs)))\n",
        "from keras.layers.advanced_activations import LeakyReLU"
      ],
      "execution_count": 10,
      "outputs": []
    },
    {
      "cell_type": "code",
      "metadata": {
        "id": "N8jv59g3dhVP"
      },
      "source": [
        "batch_size = 64\n",
        "epochs = 20\n",
        "num_classes = 10"
      ],
      "execution_count": 11,
      "outputs": []
    },
    {
      "cell_type": "code",
      "metadata": {
        "id": "vpjeTZn4mVxv"
      },
      "source": [
        "from keras.layers import AveragePooling2D"
      ],
      "execution_count": 12,
      "outputs": []
    },
    {
      "cell_type": "code",
      "metadata": {
        "id": "WNLkuadxdljt"
      },
      "source": [
        "fashion_model = Sequential()\n",
        "fashion_model.add(Conv2D(8, kernel_size=(3, 3),activation='linear',input_shape=(28,28,1),padding='same'))\n",
        "fashion_model.add(MaxPooling2D((2, 2),padding='same'))\n",
        "fashion_model.add(Conv2D(8, (3, 3), activation='linear',padding='same'))\n",
        "fashion_model.add(Conv2D(8, (3, 3), activation='linear',padding='same'))\n",
        "fashion_model.add(Conv2D(16, (3, 3), activation='linear',padding='same',strides=2))\n",
        "fashion_model.add(Conv2D(16, (3, 3), activation='linear',padding='same'))\n",
        "fashion_model.add(Conv2D(16, (3, 3), activation='linear',padding='same'))\n",
        "fashion_model.add(AveragePooling2D())\n",
        "fashion_model.add(Flatten())\n",
        "fashion_model.add(Dense(400, activation='softmax'))                 \n",
        "fashion_model.add(Dense(num_classes, activation='softmax'))"
      ],
      "execution_count": 13,
      "outputs": []
    },
    {
      "cell_type": "code",
      "metadata": {
        "id": "K3yhBxPdmuyr"
      },
      "source": [
        "from tensorflow.keras.optimizers import Adam \n"
      ],
      "execution_count": 14,
      "outputs": []
    },
    {
      "cell_type": "code",
      "metadata": {
        "id": "bn7yk80qmX2S"
      },
      "source": [
        "fashion_model.compile(loss=keras.losses.categorical_crossentropy, optimizer=Adam(),metrics=['accuracy'])\n"
      ],
      "execution_count": 15,
      "outputs": []
    },
    {
      "cell_type": "code",
      "metadata": {
        "colab": {
          "base_uri": "https://localhost:8080/"
        },
        "id": "EgD7euYum157",
        "outputId": "94ac3c5a-412b-4d4d-e54b-c4db1ca6dc1a"
      },
      "source": [
        "fashion_model.summary()"
      ],
      "execution_count": 16,
      "outputs": [
        {
          "output_type": "stream",
          "name": "stdout",
          "text": [
            "Model: \"sequential\"\n",
            "_________________________________________________________________\n",
            " Layer (type)                Output Shape              Param #   \n",
            "=================================================================\n",
            " conv2d (Conv2D)             (None, 28, 28, 8)         80        \n",
            "                                                                 \n",
            " max_pooling2d (MaxPooling2D  (None, 14, 14, 8)        0         \n",
            " )                                                               \n",
            "                                                                 \n",
            " conv2d_1 (Conv2D)           (None, 14, 14, 8)         584       \n",
            "                                                                 \n",
            " conv2d_2 (Conv2D)           (None, 14, 14, 8)         584       \n",
            "                                                                 \n",
            " conv2d_3 (Conv2D)           (None, 7, 7, 16)          1168      \n",
            "                                                                 \n",
            " conv2d_4 (Conv2D)           (None, 7, 7, 16)          2320      \n",
            "                                                                 \n",
            " conv2d_5 (Conv2D)           (None, 7, 7, 16)          2320      \n",
            "                                                                 \n",
            " average_pooling2d (AverageP  (None, 3, 3, 16)         0         \n",
            " ooling2D)                                                       \n",
            "                                                                 \n",
            " flatten (Flatten)           (None, 144)               0         \n",
            "                                                                 \n",
            " dense (Dense)               (None, 400)               58000     \n",
            "                                                                 \n",
            " dense_1 (Dense)             (None, 10)                4010      \n",
            "                                                                 \n",
            "=================================================================\n",
            "Total params: 69,066\n",
            "Trainable params: 69,066\n",
            "Non-trainable params: 0\n",
            "_________________________________________________________________\n"
          ]
        }
      ]
    },
    {
      "cell_type": "code",
      "metadata": {
        "colab": {
          "base_uri": "https://localhost:8080/"
        },
        "id": "_UvQMRVWnddc",
        "outputId": "ae45a8e1-1bb5-4d20-bc9d-986af2241d3d"
      },
      "source": [
        "fashion_train = fashion_model.fit(train_X, train_label, batch_size=batch_size,epochs=epochs,verbose=1,validation_data=(valid_X, valid_label))\n"
      ],
      "execution_count": 17,
      "outputs": [
        {
          "output_type": "stream",
          "name": "stdout",
          "text": [
            "Epoch 1/20\n",
            "750/750 [==============================] - 35s 45ms/step - loss: 1.8943 - accuracy: 0.4279 - val_loss: 1.6367 - val_accuracy: 0.4496\n",
            "Epoch 2/20\n",
            "750/750 [==============================] - 32s 43ms/step - loss: 1.4596 - accuracy: 0.4687 - val_loss: 1.3327 - val_accuracy: 0.4868\n",
            "Epoch 3/20\n",
            "750/750 [==============================] - 33s 44ms/step - loss: 1.1840 - accuracy: 0.5357 - val_loss: 1.0421 - val_accuracy: 0.5792\n",
            "Epoch 4/20\n",
            "750/750 [==============================] - 32s 43ms/step - loss: 0.9737 - accuracy: 0.5781 - val_loss: 0.9351 - val_accuracy: 0.5864\n",
            "Epoch 5/20\n",
            "750/750 [==============================] - 32s 43ms/step - loss: 0.8897 - accuracy: 0.5961 - val_loss: 0.8702 - val_accuracy: 0.6166\n",
            "Epoch 6/20\n",
            "750/750 [==============================] - 32s 43ms/step - loss: 0.8408 - accuracy: 0.6209 - val_loss: 0.8371 - val_accuracy: 0.6536\n",
            "Epoch 7/20\n",
            "750/750 [==============================] - 32s 43ms/step - loss: 0.7939 - accuracy: 0.6634 - val_loss: 0.7549 - val_accuracy: 0.6820\n",
            "Epoch 8/20\n",
            "750/750 [==============================] - 32s 43ms/step - loss: 0.7205 - accuracy: 0.6998 - val_loss: 0.7059 - val_accuracy: 0.7265\n",
            "Epoch 9/20\n",
            "750/750 [==============================] - 32s 43ms/step - loss: 0.6510 - accuracy: 0.7512 - val_loss: 0.6190 - val_accuracy: 0.7683\n",
            "Epoch 10/20\n",
            "750/750 [==============================] - 32s 43ms/step - loss: 0.5888 - accuracy: 0.7894 - val_loss: 0.5930 - val_accuracy: 0.7811\n",
            "Epoch 11/20\n",
            "750/750 [==============================] - 32s 43ms/step - loss: 0.5448 - accuracy: 0.8103 - val_loss: 0.5517 - val_accuracy: 0.8110\n",
            "Epoch 12/20\n",
            "750/750 [==============================] - 32s 43ms/step - loss: 0.5139 - accuracy: 0.8208 - val_loss: 0.5089 - val_accuracy: 0.8259\n",
            "Epoch 13/20\n",
            "750/750 [==============================] - 32s 43ms/step - loss: 0.4780 - accuracy: 0.8342 - val_loss: 0.4733 - val_accuracy: 0.8372\n",
            "Epoch 14/20\n",
            "750/750 [==============================] - 32s 43ms/step - loss: 0.4431 - accuracy: 0.8462 - val_loss: 0.4507 - val_accuracy: 0.8533\n",
            "Epoch 15/20\n",
            "750/750 [==============================] - 32s 43ms/step - loss: 0.4074 - accuracy: 0.8667 - val_loss: 0.4192 - val_accuracy: 0.8653\n",
            "Epoch 16/20\n",
            "750/750 [==============================] - 32s 43ms/step - loss: 0.3840 - accuracy: 0.8727 - val_loss: 0.3915 - val_accuracy: 0.8669\n",
            "Epoch 17/20\n",
            "750/750 [==============================] - 32s 43ms/step - loss: 0.3657 - accuracy: 0.8786 - val_loss: 0.3895 - val_accuracy: 0.8742\n",
            "Epoch 18/20\n",
            "750/750 [==============================] - 32s 43ms/step - loss: 0.3520 - accuracy: 0.8824 - val_loss: 0.3731 - val_accuracy: 0.8752\n",
            "Epoch 19/20\n",
            "750/750 [==============================] - 32s 43ms/step - loss: 0.3406 - accuracy: 0.8858 - val_loss: 0.3651 - val_accuracy: 0.8771\n",
            "Epoch 20/20\n",
            "750/750 [==============================] - 32s 43ms/step - loss: 0.3292 - accuracy: 0.8885 - val_loss: 0.3529 - val_accuracy: 0.8816\n"
          ]
        }
      ]
    },
    {
      "cell_type": "code",
      "metadata": {
        "id": "5Vu7sYeQn3ij"
      },
      "source": [
        "test_eval = fashion_model.evaluate(test_X, test_Y_one_hot, verbose=0)\n"
      ],
      "execution_count": 18,
      "outputs": []
    },
    {
      "cell_type": "code",
      "metadata": {
        "colab": {
          "base_uri": "https://localhost:8080/"
        },
        "id": "2fiw10cvtBBS",
        "outputId": "4cf570e4-3935-4fbb-d7df-cecb2f403725"
      },
      "source": [
        "print('Test loss:', test_eval[0])\n",
        "print('Test accuracy:', test_eval[1])"
      ],
      "execution_count": 19,
      "outputs": [
        {
          "output_type": "stream",
          "name": "stdout",
          "text": [
            "Test loss: 0.35445332527160645\n",
            "Test accuracy: 0.8792999982833862\n"
          ]
        }
      ]
    },
    {
      "cell_type": "code",
      "metadata": {
        "colab": {
          "base_uri": "https://localhost:8080/",
          "height": 545
        },
        "id": "ykY4wd4ytDka",
        "outputId": "6b0184c4-5b83-44d0-dc1a-2e1287bffeae"
      },
      "source": [
        "accuracy = fashion_train.history['accuracy']\n",
        "val_accuracy = fashion_train.history['val_accuracy']\n",
        "loss = fashion_train.history['loss']\n",
        "val_loss = fashion_train.history['val_loss']\n",
        "epochs = range(len(accuracy))\n",
        "plt.plot(epochs, accuracy, 'bo', label='Training accuracy')\n",
        "plt.plot(epochs, val_accuracy, 'b', label='Validation accuracy')\n",
        "plt.title('Training and validation accuracy')\n",
        "plt.legend()\n",
        "plt.figure()\n",
        "plt.plot(epochs, loss, 'bo', label='Training loss')\n",
        "plt.plot(epochs, val_loss, 'b', label='Validation loss')\n",
        "plt.title('Training and validation loss')\n",
        "plt.legend()\n",
        "plt.show()"
      ],
      "execution_count": 22,
      "outputs": [
        {
          "output_type": "display_data",
          "data": {
            "image/png": "[encoded data removed]",
            "text/plain": [
              "<Figure size 432x288 with 1 Axes>"
            ]
          },
          "metadata": {
            "needs_background": "light"
          }
        },
        {
          "output_type": "display_data",
          "data": {
            "image/png": "[encoded data removed]",
            "text/plain": [
              "<Figure size 432x288 with 1 Axes>"
            ]
          },
          "metadata": {
            "needs_background": "light"
          }
        }
      ]
    },
    {
      "cell_type": "code",
      "metadata": {
        "id": "lQ4o6-t9-8Us"
      },
      "source": [
        "predicted_classes = fashion_model.predict(test_X)\n"
      ],
      "execution_count": 23,
      "outputs": []
    },
    {
      "cell_type": "code",
      "metadata": {
        "id": "mTC78YI5--J1"
      },
      "source": [
        "predicted_classes = np.argmax(np.round(predicted_classes),axis=1)\n"
      ],
      "execution_count": 24,
      "outputs": []
    },
    {
      "cell_type": "code",
      "metadata": {
        "colab": {
          "base_uri": "https://localhost:8080/"
        },
        "id": "lpFJx_eq-_n9",
        "outputId": "bc5e0094-4a75-49d5-e128-1ba8d691b33b"
      },
      "source": [
        "predicted_classes.shape, test_Y.shape\n"
      ],
      "execution_count": 25,
      "outputs": [
        {
          "output_type": "execute_result",
          "data": {
            "text/plain": [
              "((10000,), (10000,))"
            ]
          },
          "metadata": {},
          "execution_count": 25
        }
      ]
    },
    {
      "cell_type": "code",
      "metadata": {
        "colab": {
          "base_uri": "https://localhost:8080/",
          "height": 315
        },
        "id": "cTHbsqxs_Cxt",
        "outputId": "7a959f1d-4a24-49e0-f702-1c4aecf2e176"
      },
      "source": [
        "correct = np.where(predicted_classes==test_Y)[0]\n",
        "print (\"Found %d correct labels\" % len(correct))\n",
        "for i, correct in enumerate(correct[:9]):\n",
        "    plt.subplot(3,3,i+1)\n",
        "    plt.imshow(test_X[correct].reshape(28,28), cmap='gray', interpolation='none')\n",
        "    plt.title(\"Predicted {}, Class {}\".format(predicted_classes[correct], test_Y[correct]))\n",
        "    plt.tight_layout()"
      ],
      "execution_count": 27,
      "outputs": [
        {
          "output_type": "stream",
          "name": "stdout",
          "text": [
            "Found 8649 correct labels\n"
          ]
        },
        {
          "output_type": "display_data",
          "data": {
            "image/png": "[encoded data removed]",
            "text/plain": [
              "<Figure size 432x288 with 9 Axes>"
            ]
          },
          "metadata": {
            "needs_background": "light"
          }
        }
      ]
    },
    {
      "cell_type": "code",
      "metadata": {
        "colab": {
          "base_uri": "https://localhost:8080/",
          "height": 315
        },
        "id": "hsx9yJvS_Iax",
        "outputId": "72ebca9a-161b-4a39-e1a9-0bc97147e00a"
      },
      "source": [
        "incorrect = np.where(predicted_classes!=test_Y)[0]\n",
        "print (\"Found %d incorrect labels\" % len(incorrect))\n",
        "for i, incorrect in enumerate(incorrect[:9]):\n",
        "    plt.subplot(3,3,i+1)\n",
        "    plt.imshow(test_X[incorrect].reshape(28,28), cmap='gray', interpolation='none')\n",
        "    plt.title(\"Predicted {}, Class {}\".format(predicted_classes[incorrect], test_Y[incorrect]))\n",
        "    plt.tight_layout()"
      ],
      "execution_count": 29,
      "outputs": [
        {
          "output_type": "stream",
          "name": "stdout",
          "text": [
            "Found 1351 incorrect labels\n"
          ]
        },
        {
          "output_type": "display_data",
          "data": {
            "image/png": "[encoded data removed]",
            "text/plain": [
              "<Figure size 432x288 with 9 Axes>"
            ]
          },
          "metadata": {
            "needs_background": "light"
          }
        }
      ]
    },
    {
      "cell_type": "code",
      "metadata": {
        "colab": {
          "base_uri": "https://localhost:8080/"
        },
        "id": "PoxbvvdE_Mbk",
        "outputId": "56398632-47f7-4ecb-a100-9171398a961d"
      },
      "source": [
        "from sklearn.metrics import classification_report\n",
        "target_names = [\"Class {}\".format(i) for i in range(num_classes)]\n",
        "print(classification_report(test_Y, predicted_classes, target_names=target_names))"
      ],
      "execution_count": 30,
      "outputs": [
        {
          "output_type": "stream",
          "name": "stdout",
          "text": [
            "              precision    recall  f1-score   support\n",
            "\n",
            "     Class 0       0.60      0.91      0.73      1000\n",
            "     Class 1       1.00      0.96      0.98      1000\n",
            "     Class 2       0.85      0.79      0.82      1000\n",
            "     Class 3       0.89      0.86      0.87      1000\n",
            "     Class 4       0.82      0.81      0.81      1000\n",
            "     Class 5       0.97      0.92      0.95      1000\n",
            "     Class 6       0.78      0.53      0.63      1000\n",
            "     Class 7       0.91      0.95      0.93      1000\n",
            "     Class 8       0.97      0.96      0.97      1000\n",
            "     Class 9       0.96      0.96      0.96      1000\n",
            "\n",
            "    accuracy                           0.86     10000\n",
            "   macro avg       0.88      0.86      0.86     10000\n",
            "weighted avg       0.88      0.86      0.86     10000\n",
            "\n"
          ]
        }
      ]
    }
  ]
}