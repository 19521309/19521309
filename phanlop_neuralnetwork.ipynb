{
  "nbformat": 4,
  "nbformat_minor": 0,
  "metadata": {
    "colab": {
      "name": "phanlop_neuralnetwork.ipynb",
      "provenance": [],
      "collapsed_sections": [],
      "include_colab_link": true
    },
    "kernelspec": {
      "name": "python3",
      "display_name": "Python 3"
    },
    "language_info": {
      "name": "python"
    }
  },
  "cells": [
    {
      "cell_type": "markdown",
      "metadata": {
        "id": "view-in-github",
        "colab_type": "text"
      },
      "source": [
        "<a href=\"https://colab.research.google.com/github/19521309/19521309/blob/main/phanlop_neuralnetwork.ipynb\" target=\"_parent\"><img src=\"https://colab.research.google.com/assets/colab-badge.svg\" alt=\"Open In Colab\"/></a>"
      ]
    },
    {
      "cell_type": "markdown",
      "metadata": {
        "id": "3kBRobu7UbHp"
      },
      "source": [
        "HỌ VÀ TÊN: ĐINH HOÀNG LINH ĐAN\n",
        "\n",
        "MSSV: 19521309\n"
      ]
    },
    {
      "cell_type": "code",
      "metadata": {
        "id": "YDBt2UoISWo8"
      },
      "source": [
        "import numpy as np\n",
        "import pandas as pd"
      ],
      "execution_count": null,
      "outputs": []
    },
    {
      "cell_type": "markdown",
      "metadata": {
        "id": "6up6z6rFUzw5"
      },
      "source": [
        "Bước 1: Load dữ liệu (chú ý bỏ những dữ liệu mang tính thứ tự, định danh và không liên quan đến việc phán đoán kết quả"
      ]
    },
    {
      "cell_type": "code",
      "metadata": {
        "id": "bYT34sneTK1-"
      },
      "source": [
        "df = pd.read_csv('/content/Churn_Modelling.csv')"
      ],
      "execution_count": null,
      "outputs": []
    },
    {
      "cell_type": "code",
      "metadata": {
        "colab": {
          "base_uri": "https://localhost:8080/",
          "height": 205
        },
        "id": "xLk_lA3bTWjU",
        "outputId": "3b034451-beb1-436d-c08c-66cda69c0cf8"
      },
      "source": [
        "df.head()"
      ],
      "execution_count": null,
      "outputs": [
        {
          "output_type": "execute_result",
          "data": {
            "text/html": [
              "<div>\n",
              "<style scoped>\n",
              "    .dataframe tbody tr th:only-of-type {\n",
              "        vertical-align: middle;\n",
              "    }\n",
              "\n",
              "    .dataframe tbody tr th {\n",
              "        vertical-align: top;\n",
              "    }\n",
              "\n",
              "    .dataframe thead th {\n",
              "        text-align: right;\n",
              "    }\n",
              "</style>\n",
              "<table border=\"1\" class=\"dataframe\">\n",
              "  <thead>\n",
              "    <tr style=\"text-align: right;\">\n",
              "      <th></th>\n",
              "      <th>CreditScore</th>\n",
              "      <th>Geography</th>\n",
              "      <th>Gender</th>\n",
              "      <th>Age</th>\n",
              "      <th>Tenure</th>\n",
              "      <th>Balance</th>\n",
              "      <th>NumOfProducts</th>\n",
              "      <th>HasCrCard</th>\n",
              "      <th>IsActiveMember</th>\n",
              "      <th>EstimatedSalary</th>\n",
              "      <th>Exited</th>\n",
              "    </tr>\n",
              "  </thead>\n",
              "  <tbody>\n",
              "    <tr>\n",
              "      <th>0</th>\n",
              "      <td>619</td>\n",
              "      <td>0</td>\n",
              "      <td>0</td>\n",
              "      <td>42</td>\n",
              "      <td>2</td>\n",
              "      <td>0.00</td>\n",
              "      <td>1</td>\n",
              "      <td>1</td>\n",
              "      <td>1</td>\n",
              "      <td>101348.88</td>\n",
              "      <td>1</td>\n",
              "    </tr>\n",
              "    <tr>\n",
              "      <th>1</th>\n",
              "      <td>608</td>\n",
              "      <td>2</td>\n",
              "      <td>0</td>\n",
              "      <td>41</td>\n",
              "      <td>1</td>\n",
              "      <td>83807.86</td>\n",
              "      <td>1</td>\n",
              "      <td>0</td>\n",
              "      <td>1</td>\n",
              "      <td>112542.58</td>\n",
              "      <td>0</td>\n",
              "    </tr>\n",
              "    <tr>\n",
              "      <th>2</th>\n",
              "      <td>502</td>\n",
              "      <td>0</td>\n",
              "      <td>0</td>\n",
              "      <td>42</td>\n",
              "      <td>8</td>\n",
              "      <td>159660.80</td>\n",
              "      <td>3</td>\n",
              "      <td>1</td>\n",
              "      <td>0</td>\n",
              "      <td>113931.57</td>\n",
              "      <td>1</td>\n",
              "    </tr>\n",
              "    <tr>\n",
              "      <th>3</th>\n",
              "      <td>699</td>\n",
              "      <td>0</td>\n",
              "      <td>0</td>\n",
              "      <td>39</td>\n",
              "      <td>1</td>\n",
              "      <td>0.00</td>\n",
              "      <td>2</td>\n",
              "      <td>0</td>\n",
              "      <td>0</td>\n",
              "      <td>93826.63</td>\n",
              "      <td>0</td>\n",
              "    </tr>\n",
              "    <tr>\n",
              "      <th>4</th>\n",
              "      <td>850</td>\n",
              "      <td>2</td>\n",
              "      <td>0</td>\n",
              "      <td>43</td>\n",
              "      <td>2</td>\n",
              "      <td>125510.82</td>\n",
              "      <td>1</td>\n",
              "      <td>1</td>\n",
              "      <td>1</td>\n",
              "      <td>79084.10</td>\n",
              "      <td>0</td>\n",
              "    </tr>\n",
              "  </tbody>\n",
              "</table>\n",
              "</div>"
            ],
            "text/plain": [
              "   CreditScore  Geography  Gender  ...  IsActiveMember  EstimatedSalary  Exited\n",
              "0          619          0       0  ...               1        101348.88       1\n",
              "1          608          2       0  ...               1        112542.58       0\n",
              "2          502          0       0  ...               0        113931.57       1\n",
              "3          699          0       0  ...               0         93826.63       0\n",
              "4          850          2       0  ...               1         79084.10       0\n",
              "\n",
              "[5 rows x 11 columns]"
            ]
          },
          "metadata": {},
          "execution_count": 10
        }
      ]
    },
    {
      "cell_type": "code",
      "metadata": {
        "id": "k7H_0cEKThO2"
      },
      "source": [
        "del df['RowNumber']\n",
        "del df['CustomerId']\n",
        "del df['Surname']"
      ],
      "execution_count": null,
      "outputs": []
    },
    {
      "cell_type": "markdown",
      "metadata": {
        "id": "9VUyjicDU1sw"
      },
      "source": [
        "Bước 2: chuyển đổi các dữ liệu dạng ko có thứ tự"
      ]
    },
    {
      "cell_type": "code",
      "metadata": {
        "id": "qbtyfpyfWl53"
      },
      "source": [
        "from sklearn.preprocessing import LabelEncoder\n",
        "encoder = LabelEncoder()\n",
        "df['Gender'] = encoder.fit_transform(df['Gender'])\n",
        "df['Geography'] = encoder.fit_transform(df['Geography'])"
      ],
      "execution_count": null,
      "outputs": []
    },
    {
      "cell_type": "code",
      "metadata": {
        "id": "TVLYmBRoazOR"
      },
      "source": [
        "X = df[['CreditScore', 'Geography', 'Gender','Age','Tenure','Balance','NumOfProducts','HasCrCard','IsActiveMember','EstimatedSalary']]\n",
        "y = df['Exited']"
      ],
      "execution_count": null,
      "outputs": []
    },
    {
      "cell_type": "markdown",
      "metadata": {
        "id": "DqbAJ7MhU5Vd"
      },
      "source": [
        "Bước 3: CHia ra làm 2 phần train và test với tỉ lệ 8:2"
      ]
    },
    {
      "cell_type": "code",
      "metadata": {
        "colab": {
          "base_uri": "https://localhost:8080/"
        },
        "id": "VWoQuLo9YNZF",
        "outputId": "c77a3c84-5f1d-4633-bca5-2f7a3ae7e396"
      },
      "source": [
        "from sklearn.model_selection import train_test_split \n",
        "X_train, X_val_and_test, Y_train, Y_val_and_test = train_test_split(X, y, test_size=0.2)\n",
        "X_val, X_test, Y_val, Y_test = train_test_split(X_val_and_test, Y_val_and_test, test_size=0.2)\n",
        "\n",
        "print(X_train.shape, X_val.shape, X_test.shape, Y_train.shape, Y_val.shape, Y_test.shape)\n"
      ],
      "execution_count": null,
      "outputs": [
        {
          "output_type": "stream",
          "name": "stdout",
          "text": [
            "(8000, 10) (1600, 10) (400, 10) (8000,) (1600,) (400,)\n"
          ]
        }
      ]
    },
    {
      "cell_type": "markdown",
      "metadata": {
        "id": "WMvT2FXnU8Uo"
      },
      "source": [
        "Bước 4: Chuẩn hóa đặc trưng với StandardScaler"
      ]
    },
    {
      "cell_type": "code",
      "metadata": {
        "id": "xxT1qIYfcA_e"
      },
      "source": [
        "from sklearn.preprocessing import StandardScaler\n",
        "\n",
        "scaler = StandardScaler()\n",
        "X = scaler.fit_transform(X)"
      ],
      "execution_count": null,
      "outputs": []
    },
    {
      "cell_type": "code",
      "metadata": {
        "colab": {
          "base_uri": "https://localhost:8080/"
        },
        "id": "VVb39yFQcbiu",
        "outputId": "0731d44a-0142-44e3-b20a-383b311936ea"
      },
      "source": [
        "X"
      ],
      "execution_count": null,
      "outputs": [
        {
          "output_type": "execute_result",
          "data": {
            "text/plain": [
              "array([[-0.32622142, -0.90188624, -1.09598752, ...,  0.64609167,\n",
              "         0.97024255,  0.02188649],\n",
              "       [-0.44003595,  1.51506738, -1.09598752, ..., -1.54776799,\n",
              "         0.97024255,  0.21653375],\n",
              "       [-1.53679418, -0.90188624, -1.09598752, ...,  0.64609167,\n",
              "        -1.03067011,  0.2406869 ],\n",
              "       ...,\n",
              "       [ 0.60498839, -0.90188624, -1.09598752, ..., -1.54776799,\n",
              "         0.97024255, -1.00864308],\n",
              "       [ 1.25683526,  0.30659057,  0.91241915, ...,  0.64609167,\n",
              "        -1.03067011, -0.12523071],\n",
              "       [ 1.46377078, -0.90188624, -1.09598752, ...,  0.64609167,\n",
              "        -1.03067011, -1.07636976]])"
            ]
          },
          "metadata": {},
          "execution_count": 24
        }
      ]
    },
    {
      "cell_type": "markdown",
      "metadata": {
        "id": "B8CJ-om3VNBU"
      },
      "source": [
        "Bước 5: Build mạng Neural Network với kiến trúc: Input --> 6 neurons/ReLU --> 6 neurons/ReLU --> 1 neuron / sigmoid\n"
      ]
    },
    {
      "cell_type": "code",
      "metadata": {
        "id": "ksvjyuqAhgTN"
      },
      "source": [
        "from keras.models import Sequential\n",
        "from keras.layers import Dense"
      ],
      "execution_count": null,
      "outputs": []
    },
    {
      "cell_type": "code",
      "metadata": {
        "id": "u-UEG7f0AT2A"
      },
      "source": [
        "model = Sequential([\n",
        "    Dense(32, activation='relu', input_shape=(10,)),\n",
        "    Dense(32, activation='relu'),\n",
        "    Dense(1, activation='sigmoid'),\n",
        "])"
      ],
      "execution_count": null,
      "outputs": []
    },
    {
      "cell_type": "markdown",
      "metadata": {
        "id": "0VjvL_RbVWfI"
      },
      "source": [
        "Bước 5: Huấn luyện với thuật toán Adam, sử dụng hàm loss sau: Binary Cross entropy, batch size = 32, epoch = 100"
      ]
    },
    {
      "cell_type": "code",
      "metadata": {
        "id": "cmAnbV1VAWm4"
      },
      "source": [
        "model.compile(optimizer='adam',\n",
        "              loss='binary_crossentropy',\n",
        "              metrics=['accuracy'])"
      ],
      "execution_count": null,
      "outputs": []
    },
    {
      "cell_type": "code",
      "metadata": {
        "colab": {
          "base_uri": "https://localhost:8080/"
        },
        "id": "GX29-SAIApIZ",
        "outputId": "be6fb203-5864-4367-cca9-14740dfc725e"
      },
      "source": [
        "hist = model.fit(X_train, Y_train,\n",
        "          batch_size=32, epochs=100,\n",
        "          validation_data=(X_val, Y_val))\n"
      ],
      "execution_count": null,
      "outputs": [
        {
          "output_type": "stream",
          "name": "stdout",
          "text": [
            "Epoch 1/100\n",
            "250/250 [==============================] - 1s 2ms/step - loss: 0.4751 - accuracy: 0.7906 - val_loss: 0.4495 - val_accuracy: 0.8031\n",
            "Epoch 2/100\n",
            "250/250 [==============================] - 0s 2ms/step - loss: 0.4068 - accuracy: 0.8259 - val_loss: 0.4166 - val_accuracy: 0.8356\n",
            "Epoch 3/100\n",
            "250/250 [==============================] - 0s 2ms/step - loss: 0.3771 - accuracy: 0.8478 - val_loss: 0.3892 - val_accuracy: 0.8531\n",
            "Epoch 4/100\n",
            "250/250 [==============================] - 0s 2ms/step - loss: 0.3582 - accuracy: 0.8550 - val_loss: 0.3774 - val_accuracy: 0.8531\n",
            "Epoch 5/100\n",
            "250/250 [==============================] - 0s 2ms/step - loss: 0.3481 - accuracy: 0.8577 - val_loss: 0.3705 - val_accuracy: 0.8550\n",
            "Epoch 6/100\n",
            "250/250 [==============================] - 0s 2ms/step - loss: 0.3429 - accuracy: 0.8580 - val_loss: 0.3700 - val_accuracy: 0.8550\n",
            "Epoch 7/100\n",
            "250/250 [==============================] - 0s 2ms/step - loss: 0.3388 - accuracy: 0.8599 - val_loss: 0.3656 - val_accuracy: 0.8600\n",
            "Epoch 8/100\n",
            "250/250 [==============================] - 0s 2ms/step - loss: 0.3355 - accuracy: 0.8609 - val_loss: 0.3667 - val_accuracy: 0.8569\n",
            "Epoch 9/100\n",
            "250/250 [==============================] - 0s 2ms/step - loss: 0.3330 - accuracy: 0.8593 - val_loss: 0.3661 - val_accuracy: 0.8619\n",
            "Epoch 10/100\n",
            "250/250 [==============================] - 0s 2ms/step - loss: 0.3298 - accuracy: 0.8615 - val_loss: 0.3656 - val_accuracy: 0.8519\n",
            "Epoch 11/100\n",
            "250/250 [==============================] - 0s 2ms/step - loss: 0.3272 - accuracy: 0.8637 - val_loss: 0.3673 - val_accuracy: 0.8556\n",
            "Epoch 12/100\n",
            "250/250 [==============================] - 0s 2ms/step - loss: 0.3263 - accuracy: 0.8645 - val_loss: 0.3611 - val_accuracy: 0.8569\n",
            "Epoch 13/100\n",
            "250/250 [==============================] - 0s 2ms/step - loss: 0.3225 - accuracy: 0.8650 - val_loss: 0.3595 - val_accuracy: 0.8606\n",
            "Epoch 14/100\n",
            "250/250 [==============================] - 0s 2ms/step - loss: 0.3221 - accuracy: 0.8675 - val_loss: 0.3613 - val_accuracy: 0.8587\n",
            "Epoch 15/100\n",
            "250/250 [==============================] - 0s 2ms/step - loss: 0.3216 - accuracy: 0.8652 - val_loss: 0.3590 - val_accuracy: 0.8631\n",
            "Epoch 16/100\n",
            "250/250 [==============================] - 0s 2ms/step - loss: 0.3196 - accuracy: 0.8666 - val_loss: 0.3651 - val_accuracy: 0.8594\n",
            "Epoch 17/100\n",
            "250/250 [==============================] - 0s 2ms/step - loss: 0.3176 - accuracy: 0.8661 - val_loss: 0.3664 - val_accuracy: 0.8581\n",
            "Epoch 18/100\n",
            "250/250 [==============================] - 0s 2ms/step - loss: 0.3189 - accuracy: 0.8669 - val_loss: 0.3600 - val_accuracy: 0.8587\n",
            "Epoch 19/100\n",
            "250/250 [==============================] - 0s 2ms/step - loss: 0.3165 - accuracy: 0.8681 - val_loss: 0.3656 - val_accuracy: 0.8537\n",
            "Epoch 20/100\n",
            "250/250 [==============================] - 0s 2ms/step - loss: 0.3151 - accuracy: 0.8700 - val_loss: 0.3634 - val_accuracy: 0.8556\n",
            "Epoch 21/100\n",
            "250/250 [==============================] - 0s 2ms/step - loss: 0.3145 - accuracy: 0.8708 - val_loss: 0.3621 - val_accuracy: 0.8594\n",
            "Epoch 22/100\n",
            "250/250 [==============================] - 0s 2ms/step - loss: 0.3136 - accuracy: 0.8696 - val_loss: 0.3626 - val_accuracy: 0.8575\n",
            "Epoch 23/100\n",
            "250/250 [==============================] - 0s 2ms/step - loss: 0.3132 - accuracy: 0.8686 - val_loss: 0.3623 - val_accuracy: 0.8581\n",
            "Epoch 24/100\n",
            "250/250 [==============================] - 0s 2ms/step - loss: 0.3131 - accuracy: 0.8701 - val_loss: 0.3634 - val_accuracy: 0.8600\n",
            "Epoch 25/100\n",
            "250/250 [==============================] - 0s 2ms/step - loss: 0.3114 - accuracy: 0.8717 - val_loss: 0.3638 - val_accuracy: 0.8625\n",
            "Epoch 26/100\n",
            "250/250 [==============================] - 0s 2ms/step - loss: 0.3106 - accuracy: 0.8694 - val_loss: 0.3649 - val_accuracy: 0.8569\n",
            "Epoch 27/100\n",
            "250/250 [==============================] - 0s 2ms/step - loss: 0.3091 - accuracy: 0.8709 - val_loss: 0.3645 - val_accuracy: 0.8587\n",
            "Epoch 28/100\n",
            "250/250 [==============================] - 0s 2ms/step - loss: 0.3100 - accuracy: 0.8711 - val_loss: 0.3675 - val_accuracy: 0.8594\n",
            "Epoch 29/100\n",
            "250/250 [==============================] - 0s 2ms/step - loss: 0.3080 - accuracy: 0.8719 - val_loss: 0.3667 - val_accuracy: 0.8594\n",
            "Epoch 30/100\n",
            "250/250 [==============================] - 0s 2ms/step - loss: 0.3080 - accuracy: 0.8725 - val_loss: 0.3650 - val_accuracy: 0.8569\n",
            "Epoch 31/100\n",
            "250/250 [==============================] - 0s 2ms/step - loss: 0.3069 - accuracy: 0.8710 - val_loss: 0.3690 - val_accuracy: 0.8544\n",
            "Epoch 32/100\n",
            "250/250 [==============================] - 0s 2ms/step - loss: 0.3066 - accuracy: 0.8745 - val_loss: 0.3678 - val_accuracy: 0.8562\n",
            "Epoch 33/100\n",
            "250/250 [==============================] - 0s 2ms/step - loss: 0.3051 - accuracy: 0.8723 - val_loss: 0.3684 - val_accuracy: 0.8550\n",
            "Epoch 34/100\n",
            "250/250 [==============================] - 0s 2ms/step - loss: 0.3055 - accuracy: 0.8717 - val_loss: 0.3651 - val_accuracy: 0.8594\n",
            "Epoch 35/100\n",
            "250/250 [==============================] - 0s 2ms/step - loss: 0.3046 - accuracy: 0.8719 - val_loss: 0.3684 - val_accuracy: 0.8581\n",
            "Epoch 36/100\n",
            "250/250 [==============================] - 0s 2ms/step - loss: 0.3042 - accuracy: 0.8724 - val_loss: 0.3698 - val_accuracy: 0.8575\n",
            "Epoch 37/100\n",
            "250/250 [==============================] - 0s 2ms/step - loss: 0.3042 - accuracy: 0.8731 - val_loss: 0.3677 - val_accuracy: 0.8575\n",
            "Epoch 38/100\n",
            "250/250 [==============================] - 0s 2ms/step - loss: 0.3027 - accuracy: 0.8724 - val_loss: 0.3721 - val_accuracy: 0.8569\n",
            "Epoch 39/100\n",
            "250/250 [==============================] - 0s 2ms/step - loss: 0.3026 - accuracy: 0.8721 - val_loss: 0.3683 - val_accuracy: 0.8562\n",
            "Epoch 40/100\n",
            "250/250 [==============================] - 0s 2ms/step - loss: 0.3019 - accuracy: 0.8740 - val_loss: 0.3684 - val_accuracy: 0.8569\n",
            "Epoch 41/100\n",
            "250/250 [==============================] - 0s 2ms/step - loss: 0.3014 - accuracy: 0.8764 - val_loss: 0.3698 - val_accuracy: 0.8587\n",
            "Epoch 42/100\n",
            "250/250 [==============================] - 0s 2ms/step - loss: 0.3001 - accuracy: 0.8750 - val_loss: 0.3704 - val_accuracy: 0.8550\n",
            "Epoch 43/100\n",
            "250/250 [==============================] - 0s 2ms/step - loss: 0.3003 - accuracy: 0.8750 - val_loss: 0.3709 - val_accuracy: 0.8562\n",
            "Epoch 44/100\n",
            "250/250 [==============================] - 0s 2ms/step - loss: 0.2990 - accuracy: 0.8750 - val_loss: 0.3792 - val_accuracy: 0.8494\n",
            "Epoch 45/100\n",
            "250/250 [==============================] - 0s 2ms/step - loss: 0.2988 - accuracy: 0.8758 - val_loss: 0.3737 - val_accuracy: 0.8556\n",
            "Epoch 46/100\n",
            "250/250 [==============================] - 0s 2ms/step - loss: 0.2974 - accuracy: 0.8758 - val_loss: 0.3722 - val_accuracy: 0.8569\n",
            "Epoch 47/100\n",
            "250/250 [==============================] - 0s 2ms/step - loss: 0.2976 - accuracy: 0.8755 - val_loss: 0.3748 - val_accuracy: 0.8575\n",
            "Epoch 48/100\n",
            "250/250 [==============================] - 0s 2ms/step - loss: 0.2969 - accuracy: 0.8755 - val_loss: 0.3702 - val_accuracy: 0.8544\n",
            "Epoch 49/100\n",
            "250/250 [==============================] - 0s 2ms/step - loss: 0.2952 - accuracy: 0.8776 - val_loss: 0.3741 - val_accuracy: 0.8556\n",
            "Epoch 50/100\n",
            "250/250 [==============================] - 0s 2ms/step - loss: 0.2953 - accuracy: 0.8756 - val_loss: 0.3746 - val_accuracy: 0.8562\n",
            "Epoch 51/100\n",
            "250/250 [==============================] - 0s 2ms/step - loss: 0.2948 - accuracy: 0.8777 - val_loss: 0.3764 - val_accuracy: 0.8531\n",
            "Epoch 52/100\n",
            "250/250 [==============================] - 0s 2ms/step - loss: 0.2949 - accuracy: 0.8794 - val_loss: 0.3780 - val_accuracy: 0.8494\n",
            "Epoch 53/100\n",
            "250/250 [==============================] - 0s 2ms/step - loss: 0.2941 - accuracy: 0.8770 - val_loss: 0.3747 - val_accuracy: 0.8544\n",
            "Epoch 54/100\n",
            "250/250 [==============================] - 0s 2ms/step - loss: 0.2931 - accuracy: 0.8765 - val_loss: 0.3751 - val_accuracy: 0.8544\n",
            "Epoch 55/100\n",
            "250/250 [==============================] - 0s 2ms/step - loss: 0.2928 - accuracy: 0.8786 - val_loss: 0.3746 - val_accuracy: 0.8625\n",
            "Epoch 56/100\n",
            "250/250 [==============================] - 0s 2ms/step - loss: 0.2918 - accuracy: 0.8776 - val_loss: 0.3752 - val_accuracy: 0.8562\n",
            "Epoch 57/100\n",
            "250/250 [==============================] - 0s 2ms/step - loss: 0.2908 - accuracy: 0.8773 - val_loss: 0.3769 - val_accuracy: 0.8544\n",
            "Epoch 58/100\n",
            "250/250 [==============================] - 0s 2ms/step - loss: 0.2913 - accuracy: 0.8767 - val_loss: 0.3817 - val_accuracy: 0.8519\n",
            "Epoch 59/100\n",
            "250/250 [==============================] - 0s 2ms/step - loss: 0.2904 - accuracy: 0.8795 - val_loss: 0.3789 - val_accuracy: 0.8569\n",
            "Epoch 60/100\n",
            "250/250 [==============================] - 0s 2ms/step - loss: 0.2900 - accuracy: 0.8795 - val_loss: 0.3814 - val_accuracy: 0.8556\n",
            "Epoch 61/100\n",
            "250/250 [==============================] - 0s 2ms/step - loss: 0.2896 - accuracy: 0.8770 - val_loss: 0.3795 - val_accuracy: 0.8544\n",
            "Epoch 62/100\n",
            "250/250 [==============================] - 0s 2ms/step - loss: 0.2891 - accuracy: 0.8795 - val_loss: 0.3816 - val_accuracy: 0.8556\n",
            "Epoch 63/100\n",
            "250/250 [==============================] - 1s 2ms/step - loss: 0.2885 - accuracy: 0.8786 - val_loss: 0.3772 - val_accuracy: 0.8537\n",
            "Epoch 64/100\n",
            "250/250 [==============================] - 0s 2ms/step - loss: 0.2886 - accuracy: 0.8791 - val_loss: 0.3762 - val_accuracy: 0.8556\n",
            "Epoch 65/100\n",
            "250/250 [==============================] - 0s 2ms/step - loss: 0.2884 - accuracy: 0.8771 - val_loss: 0.3803 - val_accuracy: 0.8506\n",
            "Epoch 66/100\n",
            "250/250 [==============================] - 0s 2ms/step - loss: 0.2881 - accuracy: 0.8788 - val_loss: 0.3805 - val_accuracy: 0.8519\n",
            "Epoch 67/100\n",
            "250/250 [==============================] - 0s 2ms/step - loss: 0.2881 - accuracy: 0.8804 - val_loss: 0.3810 - val_accuracy: 0.8537\n",
            "Epoch 68/100\n",
            "250/250 [==============================] - 0s 2ms/step - loss: 0.2867 - accuracy: 0.8810 - val_loss: 0.3844 - val_accuracy: 0.8531\n",
            "Epoch 69/100\n",
            "250/250 [==============================] - 0s 2ms/step - loss: 0.2864 - accuracy: 0.8811 - val_loss: 0.3813 - val_accuracy: 0.8569\n",
            "Epoch 70/100\n",
            "250/250 [==============================] - 0s 2ms/step - loss: 0.2862 - accuracy: 0.8802 - val_loss: 0.3851 - val_accuracy: 0.8544\n",
            "Epoch 71/100\n",
            "250/250 [==============================] - 0s 2ms/step - loss: 0.2866 - accuracy: 0.8801 - val_loss: 0.3833 - val_accuracy: 0.8556\n",
            "Epoch 72/100\n",
            "250/250 [==============================] - 0s 2ms/step - loss: 0.2852 - accuracy: 0.8792 - val_loss: 0.3803 - val_accuracy: 0.8550\n",
            "Epoch 73/100\n",
            "250/250 [==============================] - 0s 2ms/step - loss: 0.2843 - accuracy: 0.8795 - val_loss: 0.3833 - val_accuracy: 0.8487\n",
            "Epoch 74/100\n",
            "250/250 [==============================] - 0s 2ms/step - loss: 0.2855 - accuracy: 0.8781 - val_loss: 0.3840 - val_accuracy: 0.8500\n",
            "Epoch 75/100\n",
            "250/250 [==============================] - 0s 2ms/step - loss: 0.2855 - accuracy: 0.8792 - val_loss: 0.3830 - val_accuracy: 0.8531\n",
            "Epoch 76/100\n",
            "250/250 [==============================] - 0s 2ms/step - loss: 0.2835 - accuracy: 0.8804 - val_loss: 0.3854 - val_accuracy: 0.8519\n",
            "Epoch 77/100\n",
            "250/250 [==============================] - 0s 2ms/step - loss: 0.2844 - accuracy: 0.8806 - val_loss: 0.3824 - val_accuracy: 0.8525\n",
            "Epoch 78/100\n",
            "250/250 [==============================] - 0s 2ms/step - loss: 0.2832 - accuracy: 0.8780 - val_loss: 0.3851 - val_accuracy: 0.8525\n",
            "Epoch 79/100\n",
            "250/250 [==============================] - 0s 2ms/step - loss: 0.2822 - accuracy: 0.8819 - val_loss: 0.3861 - val_accuracy: 0.8512\n",
            "Epoch 80/100\n",
            "250/250 [==============================] - 0s 2ms/step - loss: 0.2832 - accuracy: 0.8824 - val_loss: 0.3843 - val_accuracy: 0.8525\n",
            "Epoch 81/100\n",
            "250/250 [==============================] - 0s 2ms/step - loss: 0.2832 - accuracy: 0.8836 - val_loss: 0.3855 - val_accuracy: 0.8525\n",
            "Epoch 82/100\n",
            "250/250 [==============================] - 0s 2ms/step - loss: 0.2814 - accuracy: 0.8832 - val_loss: 0.3908 - val_accuracy: 0.8531\n",
            "Epoch 83/100\n",
            "250/250 [==============================] - 0s 2ms/step - loss: 0.2810 - accuracy: 0.8819 - val_loss: 0.3877 - val_accuracy: 0.8506\n",
            "Epoch 84/100\n",
            "250/250 [==============================] - 0s 2ms/step - loss: 0.2816 - accuracy: 0.8819 - val_loss: 0.3920 - val_accuracy: 0.8525\n",
            "Epoch 85/100\n",
            "250/250 [==============================] - 0s 2ms/step - loss: 0.2803 - accuracy: 0.8823 - val_loss: 0.3892 - val_accuracy: 0.8525\n",
            "Epoch 86/100\n",
            "250/250 [==============================] - 0s 2ms/step - loss: 0.2805 - accuracy: 0.8821 - val_loss: 0.3932 - val_accuracy: 0.8531\n",
            "Epoch 87/100\n",
            "250/250 [==============================] - 0s 2ms/step - loss: 0.2799 - accuracy: 0.8825 - val_loss: 0.3833 - val_accuracy: 0.8500\n",
            "Epoch 88/100\n",
            "250/250 [==============================] - 0s 2ms/step - loss: 0.2794 - accuracy: 0.8816 - val_loss: 0.3932 - val_accuracy: 0.8456\n",
            "Epoch 89/100\n",
            "250/250 [==============================] - 0s 2ms/step - loss: 0.2794 - accuracy: 0.8825 - val_loss: 0.3888 - val_accuracy: 0.8544\n",
            "Epoch 90/100\n",
            "250/250 [==============================] - 0s 2ms/step - loss: 0.2787 - accuracy: 0.8850 - val_loss: 0.3902 - val_accuracy: 0.8519\n",
            "Epoch 91/100\n",
            "250/250 [==============================] - 0s 2ms/step - loss: 0.2777 - accuracy: 0.8839 - val_loss: 0.3938 - val_accuracy: 0.8500\n",
            "Epoch 92/100\n",
            "250/250 [==============================] - 0s 2ms/step - loss: 0.2774 - accuracy: 0.8820 - val_loss: 0.3867 - val_accuracy: 0.8544\n",
            "Epoch 93/100\n",
            "250/250 [==============================] - 0s 2ms/step - loss: 0.2778 - accuracy: 0.8831 - val_loss: 0.3906 - val_accuracy: 0.8431\n",
            "Epoch 94/100\n",
            "250/250 [==============================] - 0s 2ms/step - loss: 0.2772 - accuracy: 0.8846 - val_loss: 0.3923 - val_accuracy: 0.8519\n",
            "Epoch 95/100\n",
            "250/250 [==============================] - 0s 2ms/step - loss: 0.2770 - accuracy: 0.8849 - val_loss: 0.3964 - val_accuracy: 0.8519\n",
            "Epoch 96/100\n",
            "250/250 [==============================] - 0s 2ms/step - loss: 0.2768 - accuracy: 0.8844 - val_loss: 0.3914 - val_accuracy: 0.8519\n",
            "Epoch 97/100\n",
            "250/250 [==============================] - 0s 2ms/step - loss: 0.2767 - accuracy: 0.8863 - val_loss: 0.3960 - val_accuracy: 0.8469\n",
            "Epoch 98/100\n",
            "250/250 [==============================] - 0s 2ms/step - loss: 0.2755 - accuracy: 0.8866 - val_loss: 0.3887 - val_accuracy: 0.8500\n",
            "Epoch 99/100\n",
            "250/250 [==============================] - 0s 2ms/step - loss: 0.2761 - accuracy: 0.8842 - val_loss: 0.3937 - val_accuracy: 0.8494\n",
            "Epoch 100/100\n",
            "250/250 [==============================] - 0s 2ms/step - loss: 0.2748 - accuracy: 0.8850 - val_loss: 0.3948 - val_accuracy: 0.8487\n"
          ]
        }
      ]
    },
    {
      "cell_type": "markdown",
      "metadata": {
        "id": "Ofci1hbuVkUh"
      },
      "source": [
        "Bước 6: test và đánh giá độ chính xác"
      ]
    },
    {
      "cell_type": "code",
      "metadata": {
        "colab": {
          "base_uri": "https://localhost:8080/"
        },
        "id": "fq53DyErA4U5",
        "outputId": "85ba100a-ea78-41c8-9c2d-8bf39b8dd41d"
      },
      "source": [
        "model.evaluate(X_test, Y_test)[1]"
      ],
      "execution_count": null,
      "outputs": [
        {
          "output_type": "stream",
          "name": "stdout",
          "text": [
            "13/13 [==============================] - 0s 2ms/step - loss: 0.4201 - accuracy: 0.8375\n"
          ]
        },
        {
          "output_type": "execute_result",
          "data": {
            "text/plain": [
              "0.8374999761581421"
            ]
          },
          "metadata": {},
          "execution_count": 39
        }
      ]
    },
    {
      "cell_type": "code",
      "metadata": {
        "id": "DUOnhPfuA8e4"
      },
      "source": [
        "import matplotlib.pyplot as plt\n"
      ],
      "execution_count": null,
      "outputs": []
    },
    {
      "cell_type": "code",
      "metadata": {
        "colab": {
          "base_uri": "https://localhost:8080/",
          "height": 295
        },
        "id": "jl0dOkRkA9lo",
        "outputId": "d824df1c-6bcc-4a60-95ca-2941020f817f"
      },
      "source": [
        "vplt.plot(hist.history['loss'])\n",
        "plt.plot(hist.history['val_loss'])\n",
        "plt.title('Model loss')\n",
        "plt.ylabel('Loss')\n",
        "plt.xlabel('Epoch')\n",
        "plt.legend(['Train', 'Val'], loc='upper right')\n",
        "plt.show()"
      ],
      "execution_count": null,
      "outputs": [
        {
          "output_type": "display_data",
          "data": {
            "image/png": "[encoded data removed]",
            "text/plain": [
              "<Figure size 432x288 with 1 Axes>"
            ]
          },
          "metadata": {
            "needs_background": "light"
          }
        }
      ]
    },
    {
      "cell_type": "markdown",
      "metadata": {
        "id": "6rZLeJTIVomp"
      },
      "source": [
        "Bước 7: thử nghiệm xem với khách hàng có thông tin sau thì có nên exit hay ko?\n",
        "Geography: France\n",
        "\n",
        "Credit Score: 600\n",
        "\n",
        "Gender: Male\n",
        "\n",
        "Age: 40 years old\n",
        "\n",
        "Tenure: 3 years\n",
        "\n",
        "Balance: $ 60000\n",
        "\n",
        "No.of Products: 2\n",
        "\n",
        "Has credit card: Yes\n",
        "\n",
        "Active Member: Yes\n",
        "\n",
        "Estimated Salary: $50000\n"
      ]
    },
    {
      "cell_type": "code",
      "metadata": {
        "id": "Dj8kqtIWLL4J"
      },
      "source": [
        "datatest = pd.read_csv('/content/data_test.csv')"
      ],
      "execution_count": null,
      "outputs": []
    },
    {
      "cell_type": "code",
      "metadata": {
        "id": "onO6GUVKOjB6"
      },
      "source": [
        "datatest['Gender'] = encoder.fit_transform(datatest['Gender'])\n",
        "datatest['Geography'] = encoder.fit_transform(datatest['Geography'])"
      ],
      "execution_count": null,
      "outputs": []
    },
    {
      "cell_type": "code",
      "metadata": {
        "colab": {
          "base_uri": "https://localhost:8080/",
          "height": 81
        },
        "id": "8tkdVGAMPOlQ",
        "outputId": "02542923-0c3b-4e2e-b690-14a8cdf92e01"
      },
      "source": [
        "datatest"
      ],
      "execution_count": null,
      "outputs": [
        {
          "output_type": "execute_result",
          "data": {
            "text/html": [
              "<div>\n",
              "<style scoped>\n",
              "    .dataframe tbody tr th:only-of-type {\n",
              "        vertical-align: middle;\n",
              "    }\n",
              "\n",
              "    .dataframe tbody tr th {\n",
              "        vertical-align: top;\n",
              "    }\n",
              "\n",
              "    .dataframe thead th {\n",
              "        text-align: right;\n",
              "    }\n",
              "</style>\n",
              "<table border=\"1\" class=\"dataframe\">\n",
              "  <thead>\n",
              "    <tr style=\"text-align: right;\">\n",
              "      <th></th>\n",
              "      <th>CreditScore</th>\n",
              "      <th>Geography</th>\n",
              "      <th>Gender</th>\n",
              "      <th>Age</th>\n",
              "      <th>Tenure</th>\n",
              "      <th>Balance</th>\n",
              "      <th>NumOfProducts</th>\n",
              "      <th>HasCrCard</th>\n",
              "      <th>IsActiveMember</th>\n",
              "      <th>EstimatedSalary</th>\n",
              "    </tr>\n",
              "  </thead>\n",
              "  <tbody>\n",
              "    <tr>\n",
              "      <th>0</th>\n",
              "      <td>600</td>\n",
              "      <td>0</td>\n",
              "      <td>0</td>\n",
              "      <td>40</td>\n",
              "      <td>3</td>\n",
              "      <td>60000</td>\n",
              "      <td>2</td>\n",
              "      <td>1</td>\n",
              "      <td>1</td>\n",
              "      <td>50000</td>\n",
              "    </tr>\n",
              "  </tbody>\n",
              "</table>\n",
              "</div>"
            ],
            "text/plain": [
              "   CreditScore  Geography  Gender  ...  HasCrCard  IsActiveMember  EstimatedSalary\n",
              "0          600          0       0  ...          1               1            50000\n",
              "\n",
              "[1 rows x 10 columns]"
            ]
          },
          "metadata": {},
          "execution_count": 66
        }
      ]
    },
    {
      "cell_type": "code",
      "metadata": {
        "colab": {
          "base_uri": "https://localhost:8080/",
          "height": 205
        },
        "id": "Z_orfEXtPTIh",
        "outputId": "50d8d77a-f469-439e-9920-8318fae73fa9"
      },
      "source": [
        "df.head()"
      ],
      "execution_count": null,
      "outputs": [
        {
          "output_type": "execute_result",
          "data": {
            "text/html": [
              "<div>\n",
              "<style scoped>\n",
              "    .dataframe tbody tr th:only-of-type {\n",
              "        vertical-align: middle;\n",
              "    }\n",
              "\n",
              "    .dataframe tbody tr th {\n",
              "        vertical-align: top;\n",
              "    }\n",
              "\n",
              "    .dataframe thead th {\n",
              "        text-align: right;\n",
              "    }\n",
              "</style>\n",
              "<table border=\"1\" class=\"dataframe\">\n",
              "  <thead>\n",
              "    <tr style=\"text-align: right;\">\n",
              "      <th></th>\n",
              "      <th>CreditScore</th>\n",
              "      <th>Geography</th>\n",
              "      <th>Gender</th>\n",
              "      <th>Age</th>\n",
              "      <th>Tenure</th>\n",
              "      <th>Balance</th>\n",
              "      <th>NumOfProducts</th>\n",
              "      <th>HasCrCard</th>\n",
              "      <th>IsActiveMember</th>\n",
              "      <th>EstimatedSalary</th>\n",
              "      <th>Exited</th>\n",
              "    </tr>\n",
              "  </thead>\n",
              "  <tbody>\n",
              "    <tr>\n",
              "      <th>0</th>\n",
              "      <td>619</td>\n",
              "      <td>France</td>\n",
              "      <td>Female</td>\n",
              "      <td>42</td>\n",
              "      <td>2</td>\n",
              "      <td>0.00</td>\n",
              "      <td>1</td>\n",
              "      <td>1</td>\n",
              "      <td>1</td>\n",
              "      <td>101348.88</td>\n",
              "      <td>1</td>\n",
              "    </tr>\n",
              "    <tr>\n",
              "      <th>1</th>\n",
              "      <td>608</td>\n",
              "      <td>Spain</td>\n",
              "      <td>Female</td>\n",
              "      <td>41</td>\n",
              "      <td>1</td>\n",
              "      <td>83807.86</td>\n",
              "      <td>1</td>\n",
              "      <td>0</td>\n",
              "      <td>1</td>\n",
              "      <td>112542.58</td>\n",
              "      <td>0</td>\n",
              "    </tr>\n",
              "    <tr>\n",
              "      <th>2</th>\n",
              "      <td>502</td>\n",
              "      <td>France</td>\n",
              "      <td>Female</td>\n",
              "      <td>42</td>\n",
              "      <td>8</td>\n",
              "      <td>159660.80</td>\n",
              "      <td>3</td>\n",
              "      <td>1</td>\n",
              "      <td>0</td>\n",
              "      <td>113931.57</td>\n",
              "      <td>1</td>\n",
              "    </tr>\n",
              "    <tr>\n",
              "      <th>3</th>\n",
              "      <td>699</td>\n",
              "      <td>France</td>\n",
              "      <td>Female</td>\n",
              "      <td>39</td>\n",
              "      <td>1</td>\n",
              "      <td>0.00</td>\n",
              "      <td>2</td>\n",
              "      <td>0</td>\n",
              "      <td>0</td>\n",
              "      <td>93826.63</td>\n",
              "      <td>0</td>\n",
              "    </tr>\n",
              "    <tr>\n",
              "      <th>4</th>\n",
              "      <td>850</td>\n",
              "      <td>Spain</td>\n",
              "      <td>Female</td>\n",
              "      <td>43</td>\n",
              "      <td>2</td>\n",
              "      <td>125510.82</td>\n",
              "      <td>1</td>\n",
              "      <td>1</td>\n",
              "      <td>1</td>\n",
              "      <td>79084.10</td>\n",
              "      <td>0</td>\n",
              "    </tr>\n",
              "  </tbody>\n",
              "</table>\n",
              "</div>"
            ],
            "text/plain": [
              "   CreditScore Geography  Gender  ...  IsActiveMember  EstimatedSalary  Exited\n",
              "0          619    France  Female  ...               1        101348.88       1\n",
              "1          608     Spain  Female  ...               1        112542.58       0\n",
              "2          502    France  Female  ...               0        113931.57       1\n",
              "3          699    France  Female  ...               0         93826.63       0\n",
              "4          850     Spain  Female  ...               1         79084.10       0\n",
              "\n",
              "[5 rows x 11 columns]"
            ]
          },
          "metadata": {},
          "execution_count": 67
        }
      ]
    },
    {
      "cell_type": "code",
      "metadata": {
        "colab": {
          "base_uri": "https://localhost:8080/"
        },
        "id": "6fkDbCe1NIyv",
        "outputId": "fdcabfd2-302f-46ac-f71b-986c1bba4a80"
      },
      "source": [
        "model.predict(datatest)"
      ],
      "execution_count": null,
      "outputs": [
        {
          "output_type": "execute_result",
          "data": {
            "text/plain": [
              "array([[0.]], dtype=float32)"
            ]
          },
          "metadata": {},
          "execution_count": 68
        }
      ]
    },
    {
      "cell_type": "markdown",
      "metadata": {
        "id": "VeJAPulaRbiZ"
      },
      "source": [
        "Kết quả = 0  "
      ]
    },
    {
      "cell_type": "markdown",
      "metadata": {
        "id": "_FZyU3-RSR3A"
      },
      "source": [
        "Bước 8: đánh giá độ chính xác của kiến trúc này bằng phương pháp KFold Cross Validation với K=5\n",
        "\n"
      ]
    },
    {
      "cell_type": "code",
      "metadata": {
        "id": "odyH6W4hRCnh"
      },
      "source": [
        "# evaluate a logistic regression model using k-fold cross-validation\n",
        "from numpy import mean\n",
        "from numpy import std\n",
        "\n",
        "from sklearn.datasets import make_classification\n",
        "from sklearn.model_selection import KFold\n",
        "from sklearn.model_selection import cross_val_score\n",
        "from sklearn.linear_model import LogisticRegression"
      ],
      "execution_count": null,
      "outputs": []
    },
    {
      "cell_type": "code",
      "metadata": {
        "colab": {
          "base_uri": "https://localhost:8080/"
        },
        "id": "FuhlT23MSXfg",
        "outputId": "ed132892-b153-4b12-d9da-4c747b6b1cef"
      },
      "source": [
        "# prepare the cross-validation procedure\n",
        "cv = KFold(n_splits=5, random_state=1, shuffle=True)\n",
        "# create model\n",
        "model = LogisticRegression()\n",
        "# evaluate model\n",
        "scores = cross_val_score(model, X, y, scoring='accuracy', cv=cv, n_jobs=-1)\n",
        "# report performance\n",
        "print('Accuracy of Model with Cross Validation is: %.3f (%.3f)' % (mean(scores), std(scores)))"
      ],
      "execution_count": null,
      "outputs": [
        {
          "output_type": "stream",
          "name": "stdout",
          "text": [
            "Accuracy of Model with Cross Validation is: 0.808 (0.007)\n"
          ]
        }
      ]
    }
  ]
}